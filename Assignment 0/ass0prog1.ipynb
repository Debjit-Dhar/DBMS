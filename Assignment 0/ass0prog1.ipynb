{
 "cells": [
  {
   "cell_type": "code",
   "execution_count": 4,
   "id": "be3c7212-ea85-4999-a252-f6ef86b42e1e",
   "metadata": {},
   "outputs": [],
   "source": [
    "import tkinter as tk\n",
    "from datetime import datetime\n",
    "\n",
    "class NumberOperationsApp:\n",
    "    def __init__(self, root):\n",
    "        self.root = root\n",
    "        self.root.geometry(\"400x300\")\n",
    "        \n",
    "        # Set window title with the current date\n",
    "        current_date = datetime.now().strftime(\"%Y-%m-%d\")\n",
    "        self.root.title(f\"Number Operations - {current_date}\")\n",
    "        \n",
    "        # Initialize variables\n",
    "        self.num1_var = tk.StringVar()\n",
    "        self.num2_var = tk.StringVar()\n",
    "        self.result_var = tk.StringVar()\n",
    "\n",
    "        # Create UI elements\n",
    "        self.create_widgets()\n",
    "\n",
    "    def create_widgets(self):\n",
    "        # Labels and Entry fields\n",
    "        tk.Label(self.root, text=\"Enter First Number:\").grid(row=0, column=0, pady=10, padx=10, sticky=\"w\")\n",
    "        self.entry_num1 = tk.Entry(self.root, textvariable=self.num1_var)\n",
    "        self.entry_num1.grid(row=0, column=1, pady=10, padx=10)\n",
    "\n",
    "        tk.Label(self.root, text=\"Enter Second Number:\").grid(row=1, column=0, pady=10, padx=10, sticky=\"w\")\n",
    "        self.entry_num2 = tk.Entry(self.root, textvariable=self.num2_var)\n",
    "        self.entry_num2.grid(row=1, column=1, pady=10, padx=10)\n",
    "\n",
    "        # Buttons\n",
    "        tk.Button(self.root, text=\"Add\", command=self.add_numbers).grid(row=2, column=0, pady=10, padx=10)\n",
    "        tk.Button(self.root, text=\"Find Difference\", command=self.find_difference).grid(row=2, column=1, pady=10, padx=10)\n",
    "\n",
    "        # Result display\n",
    "        tk.Label(self.root, text=\"Result:\").grid(row=3, column=0, pady=10, padx=10, sticky=\"w\")\n",
    "        tk.Entry(self.root, textvariable=self.result_var, state=\"readonly\").grid(row=3, column=1, pady=10, padx=10)\n",
    "\n",
    "    def add_numbers(self):\n",
    "        self.perform_operation(lambda x, y: x + y)\n",
    "\n",
    "    def find_difference(self):\n",
    "        self.perform_operation(lambda x, y: x - y)\n",
    "\n",
    "    def perform_operation(self, operation):\n",
    "        try:\n",
    "            num1 = float(self.num1_var.get())\n",
    "            num2 = float(self.num2_var.get())\n",
    "            self.result_var.set(operation(num1, num2))\n",
    "        except ValueError:\n",
    "            self.result_var.set(\"Invalid input!\")\n",
    "\n",
    "# Run the application\n",
    "if __name__ == \"__main__\":\n",
    "    root = tk.Tk()\n",
    "    app = NumberOperationsApp(root)\n",
    "    root.mainloop()\n"
   ]
  },
  {
   "cell_type": "code",
   "execution_count": null,
   "id": "5a42a66c-052d-4909-be11-59059a003ad7",
   "metadata": {},
   "outputs": [],
   "source": []
  }
 ],
 "metadata": {
  "kernelspec": {
   "display_name": "Python 3 (ipykernel)",
   "language": "python",
   "name": "python3"
  },
  "language_info": {
   "codemirror_mode": {
    "name": "ipython",
    "version": 3
   },
   "file_extension": ".py",
   "mimetype": "text/x-python",
   "name": "python",
   "nbconvert_exporter": "python",
   "pygments_lexer": "ipython3",
   "version": "3.9.13"
  }
 },
 "nbformat": 4,
 "nbformat_minor": 5
}
